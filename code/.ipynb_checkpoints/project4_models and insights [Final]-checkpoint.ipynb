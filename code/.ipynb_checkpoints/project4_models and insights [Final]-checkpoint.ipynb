{
 "cells": [
  {
   "cell_type": "markdown",
   "id": "94f4ef30",
   "metadata": {},
   "source": [
    "# Preprocessing, Modeling"
   ]
  },
  {
   "cell_type": "code",
   "execution_count": 1,
   "id": "58e1cd92",
   "metadata": {},
   "outputs": [],
   "source": [
    "# Importing our libraries\n",
    "import pandas as pd\n",
    "import numpy as np\n",
    "import matplotlib.pyplot as plt\n",
    "import seaborn as sns\n",
    "from geopy.distance import geodesic\n",
    "import datetime as dt\n",
    "\n",
    "from sklearn.model_selection import train_test_split, cross_val_score, GridSearchCV, KFold\n",
    "from sklearn.preprocessing import PolynomialFeatures, StandardScaler\n",
    "from sklearn.pipeline import Pipeline\n",
    "from sklearn.linear_model import LogisticRegression\n",
    "from sklearn.ensemble import RandomForestClassifier, GradientBoostingClassifier, AdaBoostClassifier, ExtraTreesClassifier\n",
    "from sklearn.tree import DecisionTreeClassifier\n",
    "from sklearn.svm import SVC\n",
    "from sklearn.metrics import (roc_auc_score, confusion_matrix, recall_score, precision_score, \n",
    "                             roc_curve, f1_score, plot_confusion_matrix)\n",
    "\n",
    "from imblearn.over_sampling import SMOTE\n",
    "from xgboost import XGBClassifier, plot_importance\n",
    "import shap"
   ]
  },
  {
   "cell_type": "code",
   "execution_count": 2,
   "id": "3639988b",
   "metadata": {},
   "outputs": [],
   "source": [
    "# Ensuring notebook remains tidy\n",
    "import warnings\n",
    "warnings.filterwarnings('ignore')"
   ]
  },
  {
   "cell_type": "code",
   "execution_count": 3,
   "id": "9454796d",
   "metadata": {},
   "outputs": [],
   "source": [
    "# Setting our seaborn style and palette\n",
    "sns.set_style('darkgrid')\n",
    "sns.set_palette('icefire')"
   ]
  },
  {
   "cell_type": "code",
   "execution_count": 4,
   "id": "f253bbfb",
   "metadata": {},
   "outputs": [],
   "source": [
    "# Creating a custom function to kick-start the EDA process\n",
    "def eda_clean(df):\n",
    "    print('Dataset Statistics:')\n",
    "    print(f'Shape of dataframe: {df.shape}')\n",
    "    print('--------------------------------------')\n",
    "    print(f'Null values in dataframe: {df.isna().sum().sum()}')\n",
    "    print('--------------------------------------')\n",
    "    print(f'% of Null values in dataframe: {round(((df.isna().sum().sum())/(df.shape[0])) * 100, 2)}%')\n",
    "    print('--------------------------------------')\n",
    "    print(f\"Total duplicate rows: {df[df.duplicated()].shape[0]}\")\n",
    "    print('--------------------------------------')\n",
    "    print(f\"% duplicate rows: {round(df[df.duplicated()].shape[0] / df.shape[0] * 100, 2)}%\")\n",
    "    print(f'\\nColumn names: {df.columns}')\n",
    "    print('\\nVariable Types')\n",
    "    print(f\"Columns Count: \\n{df.dtypes.value_counts()}\")"
   ]
  },
  {
   "cell_type": "code",
   "execution_count": 5,
   "id": "b5e8693c",
   "metadata": {},
   "outputs": [],
   "source": [
    "# Import our tidied train dataset\n",
    "train_transformed = pd.read_csv('../data/cleaned/train_tidied.csv')"
   ]
  },
  {
   "cell_type": "code",
   "execution_count": 6,
   "id": "9d360f8a",
   "metadata": {},
   "outputs": [],
   "source": [
    "# Dropping redundant columns\n",
    "train_transformed.drop(columns=['date', 'addressnumberandstreet', 'year_month', 'station', 'station_ref', 'year'], inplace=True)"
   ]
  },
  {
   "cell_type": "code",
   "execution_count": 7,
   "id": "25f9eed0",
   "metadata": {},
   "outputs": [],
   "source": [
    "# Dropping null and nan columns\n",
    "train_transformed.dropna(inplace=True)"
   ]
  },
  {
   "cell_type": "code",
   "execution_count": 8,
   "id": "ffcc1e5e",
   "metadata": {},
   "outputs": [],
   "source": [
    "# Defining X and y variables for our train split\n",
    "X = train_transformed.drop(columns='wnvpresent')\n",
    "y = train_transformed['wnvpresent']"
   ]
  },
  {
   "cell_type": "code",
   "execution_count": 9,
   "id": "977bc405",
   "metadata": {},
   "outputs": [],
   "source": [
    "# Do a train-test split of 70-30 for train-test\n",
    "X_train, X_test, y_train, y_test = train_test_split(X, y, test_size=0.3, \n",
    "                                                    stratify=y, # Because this is an unbalanced dataset\n",
    "                                                    random_state=42)"
   ]
  },
  {
   "cell_type": "code",
   "execution_count": 10,
   "id": "d74a7d62",
   "metadata": {},
   "outputs": [],
   "source": [
    "# # generates the full polynomial feature table\n",
    "# pf = PolynomialFeatures(include_bias=False, degree=2)\n",
    "# X_train_pf = pf.fit_transform(X_train)\n",
    "\n",
    "# # Adds appropriate feature names to all polynomial features\n",
    "# X_train_pf = pd.DataFrame(X_train_pf, columns=pf.get_feature_names(X_train.columns))"
   ]
  },
  {
   "cell_type": "code",
   "execution_count": 11,
   "id": "d66fc91c",
   "metadata": {},
   "outputs": [],
   "source": [
    "# create function to run model with standard scaling, SMOTE sampling, \n",
    "# with an option to run grid search, model and print results\n",
    "\n",
    "def run_model(mod, mod_params={}, grid_search=False):\n",
    "    \n",
    "    # Initial dictionary to hold model results\n",
    "    results = {}\n",
    "    \n",
    "    pipe = Pipeline([\n",
    "            ('ss', StandardScaler()),\n",
    "            (mod, models[mod])\n",
    "            ])\n",
    "    \n",
    "    if grid_search:\n",
    "        # Instantiate list to store gridsearch results\n",
    "        gs = GridSearchCV(pipe, param_grid=mod_params, cv=5, verbose=1, scoring='roc_auc', n_jobs=-1)\n",
    "        gs.fit(X_train, y_train)\n",
    "        pipe = gs\n",
    "    else:\n",
    "        pipe.fit(X_train, y_train)\n",
    "        \n",
    "\n",
    "    # Retrieve metrics\n",
    "    predictions = pipe.predict(X_test)\n",
    "    tn, fp, fn, tp = confusion_matrix(y_test, predictions).ravel()\n",
    "    y_test_pred_prob = pipe.predict_proba(X_test)[:,1]\n",
    "    y_train_pred_prob = pipe.predict_proba(X_train)[:,1]\n",
    "    auc_scores = cross_val_score(pipe, X_train, y_train,  scoring='roc_auc', cv = 5)\n",
    "\n",
    "    results['model'] = mod\n",
    "    \n",
    "    results['train_auc_cv'] = auc_scores.mean()\n",
    "    \n",
    "    results['f1'] = f1_score(y_test, predictions)\n",
    "    results['recall'] = recall_score(y_test, predictions)        # % OF ACTUAL positives that are CORRECTLY predicted\n",
    "    results['precision'] = precision_score(y_test, predictions)  # % OF positives that are CORRECTLY predicted\n",
    "\n",
    "    results['train_auc'] = roc_auc_score(y_train, y_train_pred_prob)\n",
    "    results['test_auc'] = roc_auc_score(y_test, y_test_pred_prob)\n",
    "    results['auc_diff'] = results['train_auc'] - results['test_auc']\n",
    "\n",
    "    if grid_search:\n",
    "        gs_list.append(results)\n",
    "        print('### BEST PARAMS ###')\n",
    "        display(pipe.best_params_)\n",
    "        \n",
    "    else:\n",
    "        init_list.append(results)\n",
    "\n",
    "    return pipe"
   ]
  },
  {
   "cell_type": "code",
   "execution_count": 12,
   "id": "ad13db53",
   "metadata": {
    "scrolled": false
   },
   "outputs": [
    {
     "name": "stdout",
     "output_type": "stream",
     "text": [
      "\n",
      "Method Used: No sampling ----------------------------------------------------------------------------------------------------\n",
      "\n",
      "Class Balance BEFORE\n"
     ]
    },
    {
     "data": {
      "text/plain": [
       "0    0.945643\n",
       "1    0.054357\n",
       "Name: wnvpresent, dtype: float64"
      ]
     },
     "metadata": {},
     "output_type": "display_data"
    },
    {
     "name": "stdout",
     "output_type": "stream",
     "text": [
      "Number of rows: 5887\n",
      "\n",
      "Class Balance AFTER\n"
     ]
    },
    {
     "data": {
      "text/plain": [
       "0    0.945643\n",
       "1    0.054357\n",
       "Name: wnvpresent, dtype: float64"
      ]
     },
     "metadata": {},
     "output_type": "display_data"
    },
    {
     "name": "stdout",
     "output_type": "stream",
     "text": [
      "Number of rows: 5887 \n",
      "\n",
      "[19:49:46] WARNING: C:/Users/Administrator/workspace/xgboost-win64_release_1.5.1/src/learner.cc:1115: Starting in XGBoost 1.3.0, the default evaluation metric used with the objective 'binary:logistic' was changed from 'error' to 'logloss'. Explicitly set eval_metric if you'd like to restore the old behavior.\n",
      "[19:49:47] WARNING: C:/Users/Administrator/workspace/xgboost-win64_release_1.5.1/src/learner.cc:1115: Starting in XGBoost 1.3.0, the default evaluation metric used with the objective 'binary:logistic' was changed from 'error' to 'logloss'. Explicitly set eval_metric if you'd like to restore the old behavior.\n",
      "[19:49:47] WARNING: C:/Users/Administrator/workspace/xgboost-win64_release_1.5.1/src/learner.cc:1115: Starting in XGBoost 1.3.0, the default evaluation metric used with the objective 'binary:logistic' was changed from 'error' to 'logloss'. Explicitly set eval_metric if you'd like to restore the old behavior.\n",
      "[19:49:48] WARNING: C:/Users/Administrator/workspace/xgboost-win64_release_1.5.1/src/learner.cc:1115: Starting in XGBoost 1.3.0, the default evaluation metric used with the objective 'binary:logistic' was changed from 'error' to 'logloss'. Explicitly set eval_metric if you'd like to restore the old behavior.\n",
      "[19:49:48] WARNING: C:/Users/Administrator/workspace/xgboost-win64_release_1.5.1/src/learner.cc:1115: Starting in XGBoost 1.3.0, the default evaluation metric used with the objective 'binary:logistic' was changed from 'error' to 'logloss'. Explicitly set eval_metric if you'd like to restore the old behavior.\n",
      "[19:49:49] WARNING: C:/Users/Administrator/workspace/xgboost-win64_release_1.5.1/src/learner.cc:1115: Starting in XGBoost 1.3.0, the default evaluation metric used with the objective 'binary:logistic' was changed from 'error' to 'logloss'. Explicitly set eval_metric if you'd like to restore the old behavior.\n"
     ]
    },
    {
     "data": {
      "text/html": [
       "<div>\n",
       "<style scoped>\n",
       "    .dataframe tbody tr th:only-of-type {\n",
       "        vertical-align: middle;\n",
       "    }\n",
       "\n",
       "    .dataframe tbody tr th {\n",
       "        vertical-align: top;\n",
       "    }\n",
       "\n",
       "    .dataframe thead th {\n",
       "        text-align: right;\n",
       "    }\n",
       "</style>\n",
       "<table border=\"1\" class=\"dataframe\">\n",
       "  <thead>\n",
       "    <tr style=\"text-align: right;\">\n",
       "      <th></th>\n",
       "      <th>model</th>\n",
       "      <th>train_auc_cv</th>\n",
       "      <th>f1</th>\n",
       "      <th>recall</th>\n",
       "      <th>precision</th>\n",
       "      <th>train_auc</th>\n",
       "      <th>test_auc</th>\n",
       "      <th>auc_diff</th>\n",
       "    </tr>\n",
       "  </thead>\n",
       "  <tbody>\n",
       "    <tr>\n",
       "      <th>0</th>\n",
       "      <td>gb</td>\n",
       "      <td>0.840480</td>\n",
       "      <td>0.014388</td>\n",
       "      <td>0.007299</td>\n",
       "      <td>0.500000</td>\n",
       "      <td>0.887527</td>\n",
       "      <td>0.827499</td>\n",
       "      <td>0.060027</td>\n",
       "    </tr>\n",
       "    <tr>\n",
       "      <th>1</th>\n",
       "      <td>dt</td>\n",
       "      <td>0.796072</td>\n",
       "      <td>0.014388</td>\n",
       "      <td>0.007299</td>\n",
       "      <td>0.500000</td>\n",
       "      <td>0.903984</td>\n",
       "      <td>0.767932</td>\n",
       "      <td>0.136051</td>\n",
       "    </tr>\n",
       "    <tr>\n",
       "      <th>2</th>\n",
       "      <td>et</td>\n",
       "      <td>0.795216</td>\n",
       "      <td>0.014388</td>\n",
       "      <td>0.007299</td>\n",
       "      <td>0.500000</td>\n",
       "      <td>0.903984</td>\n",
       "      <td>0.766027</td>\n",
       "      <td>0.137956</td>\n",
       "    </tr>\n",
       "    <tr>\n",
       "      <th>3</th>\n",
       "      <td>xgb</td>\n",
       "      <td>0.825842</td>\n",
       "      <td>0.014388</td>\n",
       "      <td>0.007299</td>\n",
       "      <td>0.500000</td>\n",
       "      <td>0.903528</td>\n",
       "      <td>0.818645</td>\n",
       "      <td>0.084883</td>\n",
       "    </tr>\n",
       "    <tr>\n",
       "      <th>4</th>\n",
       "      <td>rf</td>\n",
       "      <td>0.798006</td>\n",
       "      <td>0.014286</td>\n",
       "      <td>0.007299</td>\n",
       "      <td>0.333333</td>\n",
       "      <td>0.903650</td>\n",
       "      <td>0.777536</td>\n",
       "      <td>0.126114</td>\n",
       "    </tr>\n",
       "    <tr>\n",
       "      <th>5</th>\n",
       "      <td>lr</td>\n",
       "      <td>0.801566</td>\n",
       "      <td>0.000000</td>\n",
       "      <td>0.000000</td>\n",
       "      <td>0.000000</td>\n",
       "      <td>0.817895</td>\n",
       "      <td>0.790806</td>\n",
       "      <td>0.027089</td>\n",
       "    </tr>\n",
       "    <tr>\n",
       "      <th>6</th>\n",
       "      <td>ada</td>\n",
       "      <td>0.838430</td>\n",
       "      <td>0.000000</td>\n",
       "      <td>0.000000</td>\n",
       "      <td>0.000000</td>\n",
       "      <td>0.871348</td>\n",
       "      <td>0.828083</td>\n",
       "      <td>0.043265</td>\n",
       "    </tr>\n",
       "    <tr>\n",
       "      <th>7</th>\n",
       "      <td>svc</td>\n",
       "      <td>0.743474</td>\n",
       "      <td>0.000000</td>\n",
       "      <td>0.000000</td>\n",
       "      <td>0.000000</td>\n",
       "      <td>0.769611</td>\n",
       "      <td>0.697245</td>\n",
       "      <td>0.072365</td>\n",
       "    </tr>\n",
       "  </tbody>\n",
       "</table>\n",
       "</div>"
      ],
      "text/plain": [
       "  model  train_auc_cv        f1    recall  precision  train_auc  test_auc  \\\n",
       "0    gb      0.840480  0.014388  0.007299   0.500000   0.887527  0.827499   \n",
       "1    dt      0.796072  0.014388  0.007299   0.500000   0.903984  0.767932   \n",
       "2    et      0.795216  0.014388  0.007299   0.500000   0.903984  0.766027   \n",
       "3   xgb      0.825842  0.014388  0.007299   0.500000   0.903528  0.818645   \n",
       "4    rf      0.798006  0.014286  0.007299   0.333333   0.903650  0.777536   \n",
       "5    lr      0.801566  0.000000  0.000000   0.000000   0.817895  0.790806   \n",
       "6   ada      0.838430  0.000000  0.000000   0.000000   0.871348  0.828083   \n",
       "7   svc      0.743474  0.000000  0.000000   0.000000   0.769611  0.697245   \n",
       "\n",
       "   auc_diff  \n",
       "0  0.060027  \n",
       "1  0.136051  \n",
       "2  0.137956  \n",
       "3  0.084883  \n",
       "4  0.126114  \n",
       "5  0.027089  \n",
       "6  0.043265  \n",
       "7  0.072365  "
      ]
     },
     "metadata": {},
     "output_type": "display_data"
    },
    {
     "name": "stdout",
     "output_type": "stream",
     "text": [
      "\n",
      "Method Used: SMOTE sampling ----------------------------------------------------------------------------------------------------\n",
      "\n",
      "Class Balance BEFORE\n"
     ]
    },
    {
     "data": {
      "text/plain": [
       "0.0    0.945643\n",
       "1.0    0.054357\n",
       "Name: wnvpresent, dtype: float64"
      ]
     },
     "metadata": {},
     "output_type": "display_data"
    },
    {
     "name": "stdout",
     "output_type": "stream",
     "text": [
      "Number of rows: 5887\n",
      "\n",
      "Class Balance AFTER\n"
     ]
    },
    {
     "data": {
      "text/plain": [
       "0.0    0.5\n",
       "1.0    0.5\n",
       "Name: wnvpresent, dtype: float64"
      ]
     },
     "metadata": {},
     "output_type": "display_data"
    },
    {
     "name": "stdout",
     "output_type": "stream",
     "text": [
      "Number of rows: 11134 \n",
      "\n",
      "[19:51:54] WARNING: C:/Users/Administrator/workspace/xgboost-win64_release_1.5.1/src/learner.cc:1115: Starting in XGBoost 1.3.0, the default evaluation metric used with the objective 'binary:logistic' was changed from 'error' to 'logloss'. Explicitly set eval_metric if you'd like to restore the old behavior.\n",
      "[19:51:55] WARNING: C:/Users/Administrator/workspace/xgboost-win64_release_1.5.1/src/learner.cc:1115: Starting in XGBoost 1.3.0, the default evaluation metric used with the objective 'binary:logistic' was changed from 'error' to 'logloss'. Explicitly set eval_metric if you'd like to restore the old behavior.\n",
      "[19:51:56] WARNING: C:/Users/Administrator/workspace/xgboost-win64_release_1.5.1/src/learner.cc:1115: Starting in XGBoost 1.3.0, the default evaluation metric used with the objective 'binary:logistic' was changed from 'error' to 'logloss'. Explicitly set eval_metric if you'd like to restore the old behavior.\n",
      "[19:51:56] WARNING: C:/Users/Administrator/workspace/xgboost-win64_release_1.5.1/src/learner.cc:1115: Starting in XGBoost 1.3.0, the default evaluation metric used with the objective 'binary:logistic' was changed from 'error' to 'logloss'. Explicitly set eval_metric if you'd like to restore the old behavior.\n",
      "[19:51:57] WARNING: C:/Users/Administrator/workspace/xgboost-win64_release_1.5.1/src/learner.cc:1115: Starting in XGBoost 1.3.0, the default evaluation metric used with the objective 'binary:logistic' was changed from 'error' to 'logloss'. Explicitly set eval_metric if you'd like to restore the old behavior.\n",
      "[19:51:58] WARNING: C:/Users/Administrator/workspace/xgboost-win64_release_1.5.1/src/learner.cc:1115: Starting in XGBoost 1.3.0, the default evaluation metric used with the objective 'binary:logistic' was changed from 'error' to 'logloss'. Explicitly set eval_metric if you'd like to restore the old behavior.\n"
     ]
    },
    {
     "data": {
      "text/html": [
       "<div>\n",
       "<style scoped>\n",
       "    .dataframe tbody tr th:only-of-type {\n",
       "        vertical-align: middle;\n",
       "    }\n",
       "\n",
       "    .dataframe tbody tr th {\n",
       "        vertical-align: top;\n",
       "    }\n",
       "\n",
       "    .dataframe thead th {\n",
       "        text-align: right;\n",
       "    }\n",
       "</style>\n",
       "<table border=\"1\" class=\"dataframe\">\n",
       "  <thead>\n",
       "    <tr style=\"text-align: right;\">\n",
       "      <th></th>\n",
       "      <th>model</th>\n",
       "      <th>train_auc_cv</th>\n",
       "      <th>f1</th>\n",
       "      <th>recall</th>\n",
       "      <th>precision</th>\n",
       "      <th>train_auc</th>\n",
       "      <th>test_auc</th>\n",
       "      <th>auc_diff</th>\n",
       "    </tr>\n",
       "  </thead>\n",
       "  <tbody>\n",
       "    <tr>\n",
       "      <th>0</th>\n",
       "      <td>rf</td>\n",
       "      <td>0.954666</td>\n",
       "      <td>0.278481</td>\n",
       "      <td>0.562044</td>\n",
       "      <td>0.185096</td>\n",
       "      <td>0.962982</td>\n",
       "      <td>0.771542</td>\n",
       "      <td>0.191439</td>\n",
       "    </tr>\n",
       "    <tr>\n",
       "      <th>1</th>\n",
       "      <td>ada</td>\n",
       "      <td>0.928561</td>\n",
       "      <td>0.278184</td>\n",
       "      <td>0.693431</td>\n",
       "      <td>0.173993</td>\n",
       "      <td>0.931800</td>\n",
       "      <td>0.816479</td>\n",
       "      <td>0.115322</td>\n",
       "    </tr>\n",
       "    <tr>\n",
       "      <th>2</th>\n",
       "      <td>dt</td>\n",
       "      <td>0.954548</td>\n",
       "      <td>0.270370</td>\n",
       "      <td>0.532847</td>\n",
       "      <td>0.181141</td>\n",
       "      <td>0.963504</td>\n",
       "      <td>0.763963</td>\n",
       "      <td>0.199541</td>\n",
       "    </tr>\n",
       "    <tr>\n",
       "      <th>3</th>\n",
       "      <td>et</td>\n",
       "      <td>0.953787</td>\n",
       "      <td>0.269871</td>\n",
       "      <td>0.532847</td>\n",
       "      <td>0.180693</td>\n",
       "      <td>0.963504</td>\n",
       "      <td>0.762107</td>\n",
       "      <td>0.201397</td>\n",
       "    </tr>\n",
       "    <tr>\n",
       "      <th>4</th>\n",
       "      <td>xgb</td>\n",
       "      <td>0.959170</td>\n",
       "      <td>0.268336</td>\n",
       "      <td>0.547445</td>\n",
       "      <td>0.177725</td>\n",
       "      <td>0.963382</td>\n",
       "      <td>0.812113</td>\n",
       "      <td>0.151268</td>\n",
       "    </tr>\n",
       "    <tr>\n",
       "      <th>5</th>\n",
       "      <td>gb</td>\n",
       "      <td>0.947904</td>\n",
       "      <td>0.262751</td>\n",
       "      <td>0.620438</td>\n",
       "      <td>0.166667</td>\n",
       "      <td>0.951018</td>\n",
       "      <td>0.811792</td>\n",
       "      <td>0.139226</td>\n",
       "    </tr>\n",
       "    <tr>\n",
       "      <th>6</th>\n",
       "      <td>svc</td>\n",
       "      <td>0.912391</td>\n",
       "      <td>0.253333</td>\n",
       "      <td>0.693431</td>\n",
       "      <td>0.154976</td>\n",
       "      <td>0.921335</td>\n",
       "      <td>0.812503</td>\n",
       "      <td>0.108831</td>\n",
       "    </tr>\n",
       "    <tr>\n",
       "      <th>7</th>\n",
       "      <td>lr</td>\n",
       "      <td>0.824658</td>\n",
       "      <td>0.214365</td>\n",
       "      <td>0.708029</td>\n",
       "      <td>0.126302</td>\n",
       "      <td>0.826088</td>\n",
       "      <td>0.775281</td>\n",
       "      <td>0.050807</td>\n",
       "    </tr>\n",
       "  </tbody>\n",
       "</table>\n",
       "</div>"
      ],
      "text/plain": [
       "  model  train_auc_cv        f1    recall  precision  train_auc  test_auc  \\\n",
       "0    rf      0.954666  0.278481  0.562044   0.185096   0.962982  0.771542   \n",
       "1   ada      0.928561  0.278184  0.693431   0.173993   0.931800  0.816479   \n",
       "2    dt      0.954548  0.270370  0.532847   0.181141   0.963504  0.763963   \n",
       "3    et      0.953787  0.269871  0.532847   0.180693   0.963504  0.762107   \n",
       "4   xgb      0.959170  0.268336  0.547445   0.177725   0.963382  0.812113   \n",
       "5    gb      0.947904  0.262751  0.620438   0.166667   0.951018  0.811792   \n",
       "6   svc      0.912391  0.253333  0.693431   0.154976   0.921335  0.812503   \n",
       "7    lr      0.824658  0.214365  0.708029   0.126302   0.826088  0.775281   \n",
       "\n",
       "   auc_diff  \n",
       "0  0.191439  \n",
       "1  0.115322  \n",
       "2  0.199541  \n",
       "3  0.201397  \n",
       "4  0.151268  \n",
       "5  0.139226  \n",
       "6  0.108831  \n",
       "7  0.050807  "
      ]
     },
     "metadata": {},
     "output_type": "display_data"
    },
    {
     "name": "stdout",
     "output_type": "stream",
     "text": [
      "Wall time: 2min 43s\n"
     ]
    }
   ],
   "source": [
    "%%time\n",
    "\n",
    "X_train_copy = X_train.astype(float).copy()\n",
    "y_train_copy = y_train.astype(float).copy()\n",
    "\n",
    "# create loop to run SMOTE sampling and compare the modelling outcomes with and without it\n",
    "for k in ['No', 'SMOTE']:\n",
    "    print('\\nMethod Used: {}'.format(k + ' sampling'), \"-\" * 100)\n",
    "        \n",
    "    print('\\nClass Balance BEFORE')\n",
    "    display(y_train.value_counts(normalize=True))\n",
    "    print('Number of rows: {}'.format(y_train.shape[0]))\n",
    "  \n",
    "    # instiantiate the models\n",
    "    methods = {'SMOTE': SMOTE(random_state=42)}\n",
    "    \n",
    "    if k == 'SMOTE':\n",
    "        mthd = methods[k]\n",
    "        X_train, y_train = mthd.fit_resample(X_train, y_train)\n",
    "\n",
    "    print('\\nClass Balance AFTER')\n",
    "    display(y_train.value_counts(normalize=True))\n",
    "    print('Number of rows: {}'.format(y_train.shape[0]),'\\n')\n",
    "    \n",
    "    \n",
    "    # Instiantiate models\n",
    "    models = {'lr': LogisticRegression(max_iter=5_000, random_state=42, solver='saga'),\n",
    "              'rf': RandomForestClassifier(random_state=42),\n",
    "              'gb': GradientBoostingClassifier(random_state=42),\n",
    "              'dt': DecisionTreeClassifier(random_state=42),\n",
    "              'et': ExtraTreesClassifier(random_state=42),\n",
    "              'ada': AdaBoostClassifier(random_state=42),\n",
    "              'svc': SVC(random_state=42, probability=True),\n",
    "              'xgb': XGBClassifier(random_state=42, \n",
    "                              objective='binary:logistic', \n",
    "                              verbosity=1, n_jobs=-1)\n",
    "            }\n",
    "\n",
    "    # Instantiate lists to store results\n",
    "    init_list = []\n",
    "    gs_list = []\n",
    "\n",
    "    for m in models:\n",
    "        run_model(m)\n",
    "    result_df = pd.DataFrame(init_list).sort_values(by=[\"f1\"], ascending=False).reset_index(drop=True)\n",
    "    display(result_df)\n",
    "\n",
    "    X_train = X_train_copy\n",
    "    y_train = y_train_copy"
   ]
  },
  {
   "cell_type": "markdown",
   "id": "62bb641d",
   "metadata": {},
   "source": [
    "## Selection of our final model (XGBoost)"
   ]
  },
  {
   "cell_type": "code",
   "execution_count": 13,
   "id": "cab6a477",
   "metadata": {},
   "outputs": [],
   "source": [
    "# Creating a pipeline model for StandardScaler, SMOTE and XGBoost\n",
    "xgb_pipe = Pipeline([\n",
    "        ('ss', StandardScaler()),\n",
    "        ('xgb', XGBClassifier(random_state=42, \n",
    "                              objective= 'binary:logistic', \n",
    "                              verbosity=1, n_jobs=-1))\n",
    "    ])\n",
    "# Parameters\n",
    "xgb_params = {  'xgb__learning_rate': [0.1],\n",
    "                'xgb__max_depth': [50],\n",
    "                'xgb__min_child_weight': [25],\n",
    "                'xgb__gamma': [0.85],\n",
    "                'xgb__subsample': [1],\n",
    "                'xgb__scale_pos_weight': [63],\n",
    "                'xgb__n_estimators': [49]}"
   ]
  },
  {
   "cell_type": "code",
   "execution_count": 14,
   "id": "8992a8e0",
   "metadata": {},
   "outputs": [
    {
     "name": "stdout",
     "output_type": "stream",
     "text": [
      "Fitting 5 folds for each of 1 candidates, totalling 5 fits\n",
      "[19:52:05] WARNING: C:/Users/Administrator/workspace/xgboost-win64_release_1.5.1/src/learner.cc:1115: Starting in XGBoost 1.3.0, the default evaluation metric used with the objective 'binary:logistic' was changed from 'error' to 'logloss'. Explicitly set eval_metric if you'd like to restore the old behavior.\n",
      "Fitting 5 folds for each of 1 candidates, totalling 5 fits\n",
      "[19:52:09] WARNING: C:/Users/Administrator/workspace/xgboost-win64_release_1.5.1/src/learner.cc:1115: Starting in XGBoost 1.3.0, the default evaluation metric used with the objective 'binary:logistic' was changed from 'error' to 'logloss'. Explicitly set eval_metric if you'd like to restore the old behavior.\n",
      "Fitting 5 folds for each of 1 candidates, totalling 5 fits\n",
      "[19:52:11] WARNING: C:/Users/Administrator/workspace/xgboost-win64_release_1.5.1/src/learner.cc:1115: Starting in XGBoost 1.3.0, the default evaluation metric used with the objective 'binary:logistic' was changed from 'error' to 'logloss'. Explicitly set eval_metric if you'd like to restore the old behavior.\n",
      "Fitting 5 folds for each of 1 candidates, totalling 5 fits\n",
      "[19:52:13] WARNING: C:/Users/Administrator/workspace/xgboost-win64_release_1.5.1/src/learner.cc:1115: Starting in XGBoost 1.3.0, the default evaluation metric used with the objective 'binary:logistic' was changed from 'error' to 'logloss'. Explicitly set eval_metric if you'd like to restore the old behavior.\n",
      "Fitting 5 folds for each of 1 candidates, totalling 5 fits\n",
      "[19:52:15] WARNING: C:/Users/Administrator/workspace/xgboost-win64_release_1.5.1/src/learner.cc:1115: Starting in XGBoost 1.3.0, the default evaluation metric used with the objective 'binary:logistic' was changed from 'error' to 'logloss'. Explicitly set eval_metric if you'd like to restore the old behavior.\n",
      "Fitting 5 folds for each of 1 candidates, totalling 5 fits\n",
      "[19:52:17] WARNING: C:/Users/Administrator/workspace/xgboost-win64_release_1.5.1/src/learner.cc:1115: Starting in XGBoost 1.3.0, the default evaluation metric used with the objective 'binary:logistic' was changed from 'error' to 'logloss'. Explicitly set eval_metric if you'd like to restore the old behavior.\n",
      "### BEST PARAMS ###\n"
     ]
    },
    {
     "data": {
      "text/plain": [
       "{'xgb__gamma': 0.85,\n",
       " 'xgb__learning_rate': 0.1,\n",
       " 'xgb__max_depth': 50,\n",
       " 'xgb__min_child_weight': 25,\n",
       " 'xgb__n_estimators': 49,\n",
       " 'xgb__scale_pos_weight': 63,\n",
       " 'xgb__subsample': 1}"
      ]
     },
     "metadata": {},
     "output_type": "display_data"
    },
    {
     "name": "stdout",
     "output_type": "stream",
     "text": [
      "Wall time: 18.2 s\n"
     ]
    }
   ],
   "source": [
    "%%time\n",
    "\n",
    "xgb_best = run_model('xgb', xgb_params, grid_search=True)"
   ]
  },
  {
   "cell_type": "code",
   "execution_count": 15,
   "id": "7996273a",
   "metadata": {},
   "outputs": [
    {
     "data": {
      "text/html": [
       "<div>\n",
       "<style scoped>\n",
       "    .dataframe tbody tr th:only-of-type {\n",
       "        vertical-align: middle;\n",
       "    }\n",
       "\n",
       "    .dataframe tbody tr th {\n",
       "        vertical-align: top;\n",
       "    }\n",
       "\n",
       "    .dataframe thead th {\n",
       "        text-align: right;\n",
       "    }\n",
       "</style>\n",
       "<table border=\"1\" class=\"dataframe\">\n",
       "  <thead>\n",
       "    <tr style=\"text-align: right;\">\n",
       "      <th></th>\n",
       "      <th>Features</th>\n",
       "      <th>Importances</th>\n",
       "    </tr>\n",
       "  </thead>\n",
       "  <tbody>\n",
       "    <tr>\n",
       "      <th>1</th>\n",
       "      <td>week</td>\n",
       "      <td>0.260906</td>\n",
       "    </tr>\n",
       "    <tr>\n",
       "      <th>13</th>\n",
       "      <td>raining</td>\n",
       "      <td>0.069774</td>\n",
       "    </tr>\n",
       "    <tr>\n",
       "      <th>4</th>\n",
       "      <td>PIPIENS</td>\n",
       "      <td>0.057277</td>\n",
       "    </tr>\n",
       "    <tr>\n",
       "      <th>27</th>\n",
       "      <td>humidity_10ma</td>\n",
       "      <td>0.055098</td>\n",
       "    </tr>\n",
       "    <tr>\n",
       "      <th>31</th>\n",
       "      <td>misty_5sum</td>\n",
       "      <td>0.048477</td>\n",
       "    </tr>\n",
       "    <tr>\n",
       "      <th>0</th>\n",
       "      <td>month</td>\n",
       "      <td>0.048215</td>\n",
       "    </tr>\n",
       "    <tr>\n",
       "      <th>12</th>\n",
       "      <td>avgspeed</td>\n",
       "      <td>0.043690</td>\n",
       "    </tr>\n",
       "    <tr>\n",
       "      <th>26</th>\n",
       "      <td>avgspeed_10ma</td>\n",
       "      <td>0.040667</td>\n",
       "    </tr>\n",
       "    <tr>\n",
       "      <th>21</th>\n",
       "      <td>humidity_5ma</td>\n",
       "      <td>0.032045</td>\n",
       "    </tr>\n",
       "    <tr>\n",
       "      <th>22</th>\n",
       "      <td>preciptotal_5ma</td>\n",
       "      <td>0.028993</td>\n",
       "    </tr>\n",
       "    <tr>\n",
       "      <th>19</th>\n",
       "      <td>stnpressure_5ma</td>\n",
       "      <td>0.027394</td>\n",
       "    </tr>\n",
       "    <tr>\n",
       "      <th>23</th>\n",
       "      <td>tavg_10ma</td>\n",
       "      <td>0.025904</td>\n",
       "    </tr>\n",
       "    <tr>\n",
       "      <th>25</th>\n",
       "      <td>stnpressure_10ma</td>\n",
       "      <td>0.024502</td>\n",
       "    </tr>\n",
       "    <tr>\n",
       "      <th>15</th>\n",
       "      <td>humidity</td>\n",
       "      <td>0.022592</td>\n",
       "    </tr>\n",
       "    <tr>\n",
       "      <th>34</th>\n",
       "      <td>misty_10sum</td>\n",
       "      <td>0.021564</td>\n",
       "    </tr>\n",
       "    <tr>\n",
       "      <th>20</th>\n",
       "      <td>avgspeed_5ma</td>\n",
       "      <td>0.021498</td>\n",
       "    </tr>\n",
       "    <tr>\n",
       "      <th>9</th>\n",
       "      <td>tavg</td>\n",
       "      <td>0.020125</td>\n",
       "    </tr>\n",
       "    <tr>\n",
       "      <th>30</th>\n",
       "      <td>raining_5sum</td>\n",
       "      <td>0.019754</td>\n",
       "    </tr>\n",
       "    <tr>\n",
       "      <th>28</th>\n",
       "      <td>preciptotal_10ma</td>\n",
       "      <td>0.017706</td>\n",
       "    </tr>\n",
       "    <tr>\n",
       "      <th>18</th>\n",
       "      <td>trange_5ma</td>\n",
       "      <td>0.017077</td>\n",
       "    </tr>\n",
       "    <tr>\n",
       "      <th>17</th>\n",
       "      <td>tavg_5ma</td>\n",
       "      <td>0.016249</td>\n",
       "    </tr>\n",
       "    <tr>\n",
       "      <th>2</th>\n",
       "      <td>day</td>\n",
       "      <td>0.013884</td>\n",
       "    </tr>\n",
       "    <tr>\n",
       "      <th>24</th>\n",
       "      <td>trange_10ma</td>\n",
       "      <td>0.013614</td>\n",
       "    </tr>\n",
       "    <tr>\n",
       "      <th>16</th>\n",
       "      <td>trange</td>\n",
       "      <td>0.012919</td>\n",
       "    </tr>\n",
       "    <tr>\n",
       "      <th>14</th>\n",
       "      <td>misty</td>\n",
       "      <td>0.010390</td>\n",
       "    </tr>\n",
       "    <tr>\n",
       "      <th>11</th>\n",
       "      <td>stnpressure</td>\n",
       "      <td>0.009767</td>\n",
       "    </tr>\n",
       "    <tr>\n",
       "      <th>3</th>\n",
       "      <td>RESTUANS</td>\n",
       "      <td>0.009152</td>\n",
       "    </tr>\n",
       "    <tr>\n",
       "      <th>10</th>\n",
       "      <td>preciptotal</td>\n",
       "      <td>0.005591</td>\n",
       "    </tr>\n",
       "    <tr>\n",
       "      <th>33</th>\n",
       "      <td>raining_10sum</td>\n",
       "      <td>0.005175</td>\n",
       "    </tr>\n",
       "    <tr>\n",
       "      <th>7</th>\n",
       "      <td>TARSALIS</td>\n",
       "      <td>0.000000</td>\n",
       "    </tr>\n",
       "    <tr>\n",
       "      <th>5</th>\n",
       "      <td>SALINARIUS</td>\n",
       "      <td>0.000000</td>\n",
       "    </tr>\n",
       "    <tr>\n",
       "      <th>8</th>\n",
       "      <td>ERRATICUS</td>\n",
       "      <td>0.000000</td>\n",
       "    </tr>\n",
       "    <tr>\n",
       "      <th>29</th>\n",
       "      <td>preciptotal_5sum</td>\n",
       "      <td>0.000000</td>\n",
       "    </tr>\n",
       "    <tr>\n",
       "      <th>32</th>\n",
       "      <td>preciptotal_10sum</td>\n",
       "      <td>0.000000</td>\n",
       "    </tr>\n",
       "    <tr>\n",
       "      <th>6</th>\n",
       "      <td>TERRITANS</td>\n",
       "      <td>0.000000</td>\n",
       "    </tr>\n",
       "  </tbody>\n",
       "</table>\n",
       "</div>"
      ],
      "text/plain": [
       "             Features  Importances\n",
       "1                week     0.260906\n",
       "13            raining     0.069774\n",
       "4             PIPIENS     0.057277\n",
       "27      humidity_10ma     0.055098\n",
       "31         misty_5sum     0.048477\n",
       "0               month     0.048215\n",
       "12           avgspeed     0.043690\n",
       "26      avgspeed_10ma     0.040667\n",
       "21       humidity_5ma     0.032045\n",
       "22    preciptotal_5ma     0.028993\n",
       "19    stnpressure_5ma     0.027394\n",
       "23          tavg_10ma     0.025904\n",
       "25   stnpressure_10ma     0.024502\n",
       "15           humidity     0.022592\n",
       "34        misty_10sum     0.021564\n",
       "20       avgspeed_5ma     0.021498\n",
       "9                tavg     0.020125\n",
       "30       raining_5sum     0.019754\n",
       "28   preciptotal_10ma     0.017706\n",
       "18         trange_5ma     0.017077\n",
       "17           tavg_5ma     0.016249\n",
       "2                 day     0.013884\n",
       "24        trange_10ma     0.013614\n",
       "16             trange     0.012919\n",
       "14              misty     0.010390\n",
       "11        stnpressure     0.009767\n",
       "3            RESTUANS     0.009152\n",
       "10        preciptotal     0.005591\n",
       "33      raining_10sum     0.005175\n",
       "7            TARSALIS     0.000000\n",
       "5          SALINARIUS     0.000000\n",
       "8           ERRATICUS     0.000000\n",
       "29   preciptotal_5sum     0.000000\n",
       "32  preciptotal_10sum     0.000000\n",
       "6           TERRITANS     0.000000"
      ]
     },
     "execution_count": 15,
     "metadata": {},
     "output_type": "execute_result"
    }
   ],
   "source": [
    "# create table to show the predictors with the highest importance (i.e. strongest predictors of the presence of WNV)\n",
    "feature_names = X.columns\n",
    "coefficients = pd.DataFrame(np.squeeze(xgb_best.best_estimator_.named_steps[\"xgb\"].feature_importances_),\n",
    "                            columns=['Importances']) \n",
    "features = pd.DataFrame(np.squeeze(feature_names), columns=['Features']) \n",
    "df = pd.concat([features, coefficients], axis='columns').sort_values('Importances', ascending=False)\n",
    "df"
   ]
  },
  {
   "cell_type": "code",
   "execution_count": 16,
   "id": "77c6f709",
   "metadata": {},
   "outputs": [
    {
     "data": {
      "image/png": "[encoded data removed]",
      "text/plain": [
       "<Figure size 432x288 with 1 Axes>"
      ]
     },
     "metadata": {},
     "output_type": "display_data"
    }
   ],
   "source": [
    "y_pred_prob = xgb_best.best_estimator_.predict_proba(X_test)[:, 1]\n",
    "fpr, tpr, thresholds = roc_curve(y_test, y_pred_prob)\n",
    "\n",
    "# Plot ROC curve\n",
    "plt.plot([0, 1], [0, 1], 'k--')\n",
    "plt.plot(fpr, tpr)\n",
    "plt.xlabel('False Positive Rate')\n",
    "plt.ylabel('True Positive Rate')\n",
    "plt.title('ROC Curve, ROC AUC Score: {}'.format(roc_auc_score(y_test, y_pred_prob).round(3)))\n",
    "plt.show()"
   ]
  },
  {
   "cell_type": "markdown",
   "id": "184af3de",
   "metadata": {},
   "source": [
    "## Tidying ```test``` data"
   ]
  },
  {
   "cell_type": "code",
   "execution_count": 17,
   "id": "bf2eedcd",
   "metadata": {},
   "outputs": [],
   "source": [
    "# Read train and test datasets\n",
    "test = pd.read_csv('../data/raw/test.csv', parse_dates=['Date'])\n",
    "\n",
    "# Converting columns to lowercase for standardisation\n",
    "test.columns = test.columns.str.lower()"
   ]
  },
  {
   "cell_type": "code",
   "execution_count": 18,
   "id": "e6ea42d4",
   "metadata": {},
   "outputs": [
    {
     "name": "stdout",
     "output_type": "stream",
     "text": [
      "Dataset Statistics:\n",
      "Shape of dataframe: (116293, 11)\n",
      "--------------------------------------\n",
      "Null values in dataframe: 0\n",
      "--------------------------------------\n",
      "% of Null values in dataframe: 0.0%\n",
      "--------------------------------------\n",
      "Total duplicate rows: 0\n",
      "--------------------------------------\n",
      "% duplicate rows: 0.0%\n",
      "\n",
      "Column names: Index(['id', 'date', 'address', 'species', 'block', 'street', 'trap',\n",
      "       'addressnumberandstreet', 'latitude', 'longitude', 'addressaccuracy'],\n",
      "      dtype='object')\n",
      "\n",
      "Variable Types\n",
      "Columns Count: \n",
      "object            5\n",
      "int64             3\n",
      "float64           2\n",
      "datetime64[ns]    1\n",
      "dtype: int64\n"
     ]
    }
   ],
   "source": [
    "# Previewing our test dataset\n",
    "eda_clean(test)"
   ]
  },
  {
   "cell_type": "code",
   "execution_count": 19,
   "id": "55ff6a22",
   "metadata": {},
   "outputs": [],
   "source": [
    "def initial_clean(df):\n",
    "    df.drop(columns=['address', 'block', 'street', 'addressaccuracy'], inplace=True)\n",
    "    return df"
   ]
  },
  {
   "cell_type": "code",
   "execution_count": 20,
   "id": "0c57ae64",
   "metadata": {},
   "outputs": [],
   "source": [
    "test_iter1 = initial_clean(test)"
   ]
  },
  {
   "cell_type": "code",
   "execution_count": 21,
   "id": "4804972f",
   "metadata": {},
   "outputs": [],
   "source": [
    "def date_feature_engineering(df):\n",
    "    df['year'] = df['date'].dt.year\n",
    "    df['month'] = df['date'].dt.month\n",
    "    df['week'] = df['date'].dt.isocalendar().week\n",
    "    df['day'] = df['date'].dt.isocalendar().day\n",
    "    df['year_month'] = df['date'].dt.strftime(\"%Y-%m\")\n",
    "\n",
    "    return df"
   ]
  },
  {
   "cell_type": "code",
   "execution_count": 22,
   "id": "895676e1",
   "metadata": {},
   "outputs": [],
   "source": [
    "test_iter2 = date_feature_engineering(test_iter1)"
   ]
  },
  {
   "cell_type": "code",
   "execution_count": 23,
   "id": "683cc2cb",
   "metadata": {},
   "outputs": [],
   "source": [
    "# We can exclude Unsepcified species from this selection\n",
    "species_of_interest = ['RESTUANS', 'PIPIENS', 'SALINARIUS', 'TERRITANS', 'TARSALIS', 'ERRATICUS']\n",
    "\n",
    "# create loop to create dummified variables to indicate presence of Pipiens & Restuans species\n",
    "def dummify_species(df):\n",
    "    for i in species_of_interest:\n",
    "        df[i] = df['species'].apply(lambda x: 1 if i in x else 0)\n",
    "    \n",
    "    return df"
   ]
  },
  {
   "cell_type": "code",
   "execution_count": 24,
   "id": "a3c1dd50",
   "metadata": {},
   "outputs": [],
   "source": [
    "test_iter3 = dummify_species(test_iter2)"
   ]
  },
  {
   "cell_type": "code",
   "execution_count": 25,
   "id": "d165be4a",
   "metadata": {},
   "outputs": [],
   "source": [
    "def determine_station(lat, long):\n",
    "    station1 = (41.995, -87.933) #Chicago O'Hare Tntl Airpot -> lat: 41.995 long: -87.933\n",
    "    station2 = (41.786, -87.752) #Chicago Midway Tntl Airpot -> lat: 41.786 long: -87.752\n",
    "    coordinates = (lat, long)\n",
    "    \n",
    "    return 1 if geodesic(coordinates, station1) < geodesic(coordinates, station2) else 2"
   ]
  },
  {
   "cell_type": "code",
   "execution_count": 26,
   "id": "fb335dbf",
   "metadata": {},
   "outputs": [
    {
     "name": "stdout",
     "output_type": "stream",
     "text": [
      "Wall time: 56.4 s\n"
     ]
    }
   ],
   "source": [
    "%%time\n",
    "\n",
    "# Apply function to map our function\n",
    "test_iter3['station_ref'] = test_iter3.apply(lambda i: determine_station(i['latitude'], i['longitude']), axis=1)"
   ]
  },
  {
   "cell_type": "code",
   "execution_count": 27,
   "id": "f5181f4f",
   "metadata": {},
   "outputs": [],
   "source": [
    "weather_tidied = pd.read_csv('../data/cleaned/weather_tidied.csv', parse_dates=['date'])"
   ]
  },
  {
   "cell_type": "code",
   "execution_count": 28,
   "id": "572cdbd6",
   "metadata": {},
   "outputs": [],
   "source": [
    "test_iter4 = test_iter3.merge(weather_tidied, how='left', left_on=['station_ref', 'date'], right_on=['station', 'date'])\n",
    "test_iter4.drop(columns=[\"station\"], inplace=True)"
   ]
  },
  {
   "cell_type": "code",
   "execution_count": 29,
   "id": "b5ac4199",
   "metadata": {},
   "outputs": [],
   "source": [
    "def final_clean(df):\n",
    "    df.drop(columns=['species', 'trap', 'date', 'addressnumberandstreet', \n",
    "                     'latitude', 'longitude', \n",
    "#                      'day', \n",
    "                     'year_month', 'station_ref', 'year'], inplace=True)\n",
    "    \n",
    "    return df"
   ]
  },
  {
   "cell_type": "code",
   "execution_count": 30,
   "id": "262505d6",
   "metadata": {},
   "outputs": [],
   "source": [
    "test_iter5 = final_clean(test_iter4)"
   ]
  },
  {
   "cell_type": "code",
   "execution_count": 31,
   "id": "8020af33",
   "metadata": {},
   "outputs": [],
   "source": [
    "def predict(df):\n",
    "    df_id = df['id']\n",
    "\n",
    "    df_base = df.drop(columns=['id'])\n",
    "    \n",
    "    # generate predictions\n",
    "    y_pred = ada_best.best_estimator_.predict(df_base)  \n",
    "\n",
    "    # load prediction into dataframe\n",
    "    df_pred = pd.DataFrame(np.squeeze(y_pred), columns=['wnvpresent']) \n",
    "\n",
    "    # Merge id with predictions into one dataframe\n",
    "    df_final = pd.concat([df_id, df_pred], axis='columns')\n",
    "    return df_final\n",
    "\n",
    "def predict_proba(df):\n",
    "    df_coord = test[['latitude', 'longitude']]\n",
    "    \n",
    "    df_base = df.drop(columns=['id'])\n",
    "    \n",
    "    # generate predictions\n",
    "    y_pred = ada_best.best_estimator_.predict_proba(df_base)  \n",
    "\n",
    "    # load prediction into dataframe\n",
    "    df_pred = pd.DataFrame(np.squeeze(y_pred)) \n",
    "\n",
    "    # Merge id with predictions into one dataframe\n",
    "    df_final = pd.concat([df_coord, df_pred], axis='columns')\n",
    "    return df_final"
   ]
  },
  {
   "cell_type": "code",
   "execution_count": 32,
   "id": "0b7a2b78",
   "metadata": {},
   "outputs": [],
   "source": [
    "def predict_best(df, model_best):\n",
    "    df_id = df['id']\n",
    "\n",
    "    df_base = df.drop(columns=['id'])\n",
    "    \n",
    "    # generate predictions\n",
    "    y_pred = model_best.best_estimator_.predict(df_base)  \n",
    "\n",
    "    # load prediction into dataframe\n",
    "    df_pred = pd.DataFrame(np.squeeze(y_pred), columns=['wnvpresent']) \n",
    "\n",
    "    # Merge id with predictions into one dataframe\n",
    "    df_final = pd.concat([df_id, df_pred], axis='columns')\n",
    "    return df_final\n",
    "\n",
    "def predict_proba_best(df, model_best):\n",
    "    df_coord = test[['latitude', 'longitude']]\n",
    "    \n",
    "    df_base = df.drop(columns=['id'])\n",
    "    \n",
    "    # generate predictions\n",
    "    y_pred = model_best.best_estimator_.predict_proba(df_base)  \n",
    "\n",
    "    # load prediction into dataframe\n",
    "    df_pred = pd.DataFrame(np.squeeze(y_pred)) \n",
    "\n",
    "    # Merge id with predictions into one dataframe\n",
    "    df_final = pd.concat([df_coord, df_pred], axis='columns')\n",
    "    return df_final"
   ]
  },
  {
   "cell_type": "code",
   "execution_count": 33,
   "id": "afdcad96",
   "metadata": {},
   "outputs": [],
   "source": [
    "# generate predictions\n",
    "pred = predict_best(test_iter5, xgb_best)"
   ]
  },
  {
   "cell_type": "code",
   "execution_count": 34,
   "id": "2a56a724",
   "metadata": {},
   "outputs": [],
   "source": [
    "pred.rename(columns={'id': 'Id', 'wnvpresent':'WnvPresent'}, inplace=True)"
   ]
  },
  {
   "cell_type": "code",
   "execution_count": 35,
   "id": "36b92ae5",
   "metadata": {},
   "outputs": [],
   "source": [
    "pred = pred.set_index('Id')"
   ]
  },
  {
   "cell_type": "code",
   "execution_count": 36,
   "id": "320e2abe",
   "metadata": {},
   "outputs": [],
   "source": [
    "pred.to_csv('../kaggle/submission.csv')"
   ]
  },
  {
   "cell_type": "markdown",
   "id": "67897e90",
   "metadata": {},
   "source": [
    "**Kaggle Submission Score**"
   ]
  },
  {
   "cell_type": "markdown",
   "id": "26adaefc",
   "metadata": {},
   "source": [
    "![Our Kaggle submission](../images/kaggle_submission.png \"Our Kaggle submission\")"
   ]
  }
 ],
 "metadata": {
  "kernelspec": {
   "display_name": "Python 3",
   "language": "python",
   "name": "python3"
  },
  "language_info": {
   "codemirror_mode": {
    "name": "ipython",
    "version": 3
   },
   "file_extension": ".py",
   "mimetype": "text/x-python",
   "name": "python",
   "nbconvert_exporter": "python",
   "pygments_lexer": "ipython3",
   "version": "3.8.8"
  }
 },
 "nbformat": 4,
 "nbformat_minor": 5
}
